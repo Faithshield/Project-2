{
 "cells": [
  {
   "cell_type": "markdown",
   "metadata": {},
   "source": [
    "<img src=\"http://imgur.com/1ZcRyrc.png\" style=\"float: left; margin: 20px; height: 55px\">\n",
    "\n",
    "# Project 2: AMES Housing Dataset"
   ]
  },
  {
   "cell_type": "markdown",
   "metadata": {},
   "source": [
    "--- \n",
    "# Notebook 4\n",
    "\n",
    "The fourth notebook will apply the data changes in notebook 2 and use the ridge regression model trained in notebook 3 to predict the target variable for Kaggle Submission.\n",
    "\n",
    "---"
   ]
  },
  {
   "cell_type": "markdown",
   "metadata": {},
   "source": [
    "# 1.0 Data and libraries Import"
   ]
  },
  {
   "cell_type": "code",
   "execution_count": 1,
   "metadata": {},
   "outputs": [],
   "source": [
    "# Import libraries\n",
    "import numpy as np\n",
    "import math\n",
    "import statistics\n",
    "import pandas as pd\n",
    "import seaborn as sns\n",
    "\n",
    "from sklearn.preprocessing import RobustScaler\n",
    "from sklearn.model_selection import train_test_split\n",
    "from sklearn.linear_model import Ridge, RidgeCV"
   ]
  },
  {
   "cell_type": "code",
   "execution_count": 2,
   "metadata": {},
   "outputs": [],
   "source": [
    "# Load data in dataframe\n",
    "X = pd.read_csv('datasets/test.csv')"
   ]
  },
  {
   "cell_type": "markdown",
   "metadata": {},
   "source": [
    "# 2.0 Filling missing values according to Notebook 1"
   ]
  },
  {
   "cell_type": "code",
   "execution_count": 3,
   "metadata": {},
   "outputs": [
    {
     "data": {
      "text/plain": [
       "Index(['Lot Frontage', 'Alley', 'Mas Vnr Type', 'Mas Vnr Area', 'Bsmt Qual',\n",
       "       'Bsmt Cond', 'Bsmt Exposure', 'BsmtFin Type 1', 'BsmtFin Type 2',\n",
       "       'Electrical', 'Fireplace Qu', 'Garage Type', 'Garage Yr Blt',\n",
       "       'Garage Finish', 'Garage Qual', 'Garage Cond', 'Pool QC', 'Fence',\n",
       "       'Misc Feature'],\n",
       "      dtype='object')"
      ]
     },
     "execution_count": 3,
     "metadata": {},
     "output_type": "execute_result"
    }
   ],
   "source": [
    "X.columns[X.isnull().any()]"
   ]
  },
  {
   "cell_type": "code",
   "execution_count": 4,
   "metadata": {},
   "outputs": [
    {
     "data": {
      "text/plain": [
       "Pool QC           874\n",
       "Misc Feature      837\n",
       "Alley             820\n",
       "Fireplace Qu      422\n",
       "Lot Frontage      160\n",
       "Garage Yr Blt      45\n",
       "Garage Finish      45\n",
       "Garage Qual        45\n",
       "Garage Cond        45\n",
       "Garage Type        44\n",
       "Bsmt Cond          25\n",
       "Bsmt Exposure      25\n",
       "BsmtFin Type 1     25\n",
       "BsmtFin Type 2     25\n",
       "Bsmt Qual          25\n",
       "Mas Vnr Area        1\n",
       "Mas Vnr Type        1\n",
       "Electrical          1\n",
       "dtype: int64"
      ]
     },
     "execution_count": 4,
     "metadata": {},
     "output_type": "execute_result"
    }
   ],
   "source": [
    "# Putting all variables into a list and check the datatypes of the missing variables\n",
    "nan_vars = [\n",
    "    'Lot Frontage', 'Alley', 'Mas Vnr Type', 'Mas Vnr Area', 'Bsmt Qual', \n",
    "    'Bsmt Cond', 'Bsmt Exposure', 'BsmtFin Type 1', 'BsmtFin Type 2', \n",
    "    'Electrical', 'Fireplace Qu', 'Garage Type', 'Garage Yr Blt', \n",
    "    'Garage Finish', 'Garage Qual', 'Garage Cond', 'Pool QC', 'Misc Feature']\n",
    "\n",
    "# Find the number of misssing values in each variable\n",
    "X[nan_vars].isnull().sum().sort_values(ascending = False)"
   ]
  },
  {
   "cell_type": "code",
   "execution_count": 5,
   "metadata": {},
   "outputs": [],
   "source": [
    "X[X['Lot Frontage'].isnull()]\n",
    "X.iloc[764, X.columns.get_loc('Garage Finish')] = 'Unf'\n",
    "X.iloc[764, X.columns.get_loc('Garage Qual')] = 'TA'\n",
    "X.iloc[764, X.columns.get_loc('Garage Cond')] = 'TA'\n",
    "X.iloc[764, X.columns.get_loc('Garage Yr Blt')] = X.iloc[764, X.columns.get_loc('Year Built')]\n",
    "X['Mas Vnr Type'] = np.where(X['Mas Vnr Type'].isnull(), 'None', X['Mas Vnr Type'])\n",
    "X['Mas Vnr Area'] = np.where(X['Mas Vnr Area'].isnull(), 0, X['Mas Vnr Area'])\n",
    "X['Electrical'] = X['Electrical'].fillna('FuseA')"
   ]
  },
  {
   "cell_type": "markdown",
   "metadata": {},
   "source": [
    "## 3.1 Create Ordinal Data according to Notebook 2"
   ]
  },
  {
   "cell_type": "code",
   "execution_count": 6,
   "metadata": {},
   "outputs": [],
   "source": [
    "X['Misc Feature'].fillna('None', inplace = True)\n",
    "X['Garage Yr Blt'] = X['Garage Yr Blt'].fillna(X['Year Built'])\n",
    "X.fillna(0, inplace = True)\n",
    "X['Lot Shape'] = X['Lot Shape'].map({'Reg':3,'IR1':2,'IR2':1,'IR3':0})\n",
    "X['Land Slope'] = X['Land Slope'].map({'Gtl':2,'Mod':1,'Sev':0})\n",
    "X['Electrical'] = X['Electrical'].map({'SBrkr':4,'FuseA':3,'FuseF':1, 'FuseP':0, 'Mix':2})\n",
    "X['Functional'] = X['Functional'].map({'Typ':7,'Min1':6,'Min2':5,'Mod':4,'Maj1':3,'Maj2':2,'Sev':1,'Sal':0})\n",
    "X['Paved Drive'] = X['Paved Drive'].map({'Y':2, 'P':1, 'N':0})\n",
    "X['Garage Finish'] = X['Garage Finish'].map({'Fin':3,'RFn':2,'Unf':1,'None':0, 0:0})\n",
    "X['BsmtFin Type 1'] = X['BsmtFin Type 1'].map({'GLQ':6,'ALQ':5,'BLQ':4,'Rec':3,'LwQ':2,'Unf':1,'None':0, 0:0})\n",
    "X['BsmtFin Type 2'] = X['BsmtFin Type 2'].map({'GLQ':6,'ALQ':5,'BLQ':4,'Rec':3,'LwQ':2,'Unf':1,'None':0, 0:0})\n",
    "X['Bsmt Exposure'] = X['Bsmt Exposure'].map({'Gd':3,'Av':2,'Mn':1,'No':0,'None':0, 0:0})\n",
    "X['Fence'] = X['Fence'].map({'GdPrv':4,'GdWo':3,'MnPrv':2,'MnWw':1,'None':0, 0:0})\n",
    "X['Alley'] = X['Alley'].map({'Pave':2,'Grvl':1, 0:0})\n",
    "rank_list = {'Ex':5, 'Gd':4, 'TA':3, 'Fa':0, 'Po':-2, 0:0}\n",
    "ordinal_vars = ['Exter Qual', 'Exter Cond' , 'Bsmt Qual', 'Bsmt Cond', 'Heating QC', 'Kitchen Qual', 'Fireplace Qu', 'Garage Qual', 'Garage Cond', 'Pool QC']\n",
    "for var in ordinal_vars:\n",
    "    X[var] = X[var].map(rank_list)\n",
    "rank_list = {'Y':1, 'N':0}\n",
    "X['Central Air'] = X['Central Air'].map(rank_list)\n",
    "X['MS SubClass'] = X['MS SubClass'].map({20:15, 30:4, 40:3, 45:1, 50:12, 60:14, 70:7, 75:13, 80:9, 85:5, 90:8, 120:11, 150:2, 160:10, 180:2, 190:6})\n",
    "X['Bldg Type'] = X['Bldg Type'].map({'1Fam':5, 'TwnhsE':4, 'Duplex':3, 'Twnhs':2, '2fmCon':1})"
   ]
  },
  {
   "cell_type": "markdown",
   "metadata": {},
   "source": [
    "## 3.2 Dumbified Variables"
   ]
  },
  {
   "cell_type": "code",
   "execution_count": 7,
   "metadata": {},
   "outputs": [],
   "source": [
    "dumb_vars = ['MS Zoning', 'Street', 'Land Contour', 'Condition 1', 'Condition 2', \n",
    "             'House Style', 'Lot Config', 'Neighborhood', 'Roof Style', 'Roof Matl', \n",
    "             'Exterior 1st', 'Exterior 2nd', 'Foundation', 'Heating', 'Garage Type', \n",
    "             'Mas Vnr Type', 'Misc Feature', 'Sale Type']\n",
    "\n",
    "for var in dumb_vars:\n",
    "    X = pd.get_dummies(data=X, columns = [var], dummy_na = True, prefix = var)"
   ]
  },
  {
   "cell_type": "markdown",
   "metadata": {},
   "source": [
    "## 3.3 Variables to be Drop"
   ]
  },
  {
   "cell_type": "code",
   "execution_count": 8,
   "metadata": {},
   "outputs": [],
   "source": [
    "X.drop(columns = ['Utilities'], inplace = True)\n",
    "zero_cols = [ col for col, is_zero in ((X == 0).sum() == X.shape[0]).items() if is_zero ]\n",
    "\n",
    "X.drop(zero_cols, axis=1, inplace=True)\n",
    "X.drop(columns = ['PID'], inplace = True)"
   ]
  },
  {
   "cell_type": "markdown",
   "metadata": {},
   "source": [
    "## 3.4 Manufacture Variables"
   ]
  },
  {
   "cell_type": "code",
   "execution_count": 9,
   "metadata": {},
   "outputs": [],
   "source": [
    "seasons = {'Spr':[3,4,5], 'Sum':[6,7,8], 'Fal':[9,10,11], 'Win':[12,1,2]}\n",
    "X['Season'] = X['Mo Sold'].map(lambda x: [i for i in seasons if x in seasons[i]][0])\n",
    "X = pd.get_dummies(X, columns=['Season'], drop_first = True)\n",
    "X.drop(columns = ['Mo Sold'], inplace = True)\n",
    "X['Bathroom'] = X['Full Bath'] + X['Bsmt Full Bath'] + 0.5 * X['Half Bath'] + 0.5 * X['Bsmt Half Bath']\n",
    "X.drop(columns = ['Full Bath', 'Bsmt Full Bath', 'Half Bath', 'Bsmt Half Bath'], inplace = True)\n",
    "X.drop(columns = ['Mas Vnr Type_None', 'Misc Feature_None'], inplace = True)"
   ]
  },
  {
   "cell_type": "code",
   "execution_count": 10,
   "metadata": {},
   "outputs": [],
   "source": [
    "# Drop variables with skew data from the pairplot above.\n",
    "X.drop(columns = ['MS Zoning_I (all)', 'Foundation_Wood', 'Condition 1_RRNn',\n",
    "                  'Roof Style_Shed', 'Roof Matl_WdShngl', 'Roof Matl_WdShake', \n",
    "                  'Roof Style_Shed', 'Exterior 1st_AsbShng', 'Exterior 1st_BrkComm', \n",
    "                  'Exterior 2nd_AsphShn', 'Exterior 2nd_CBlock', 'Misc Feature_Othr',\n",
    "                  'Mas Vnr Type_CBlock', 'Sale Type_VWD', 'Heating_Floor',\n",
    "                  'Roof Matl_Roll', 'Roof Matl_Metal', 'Exterior 1st_PreCast',\n",
    "                  'Exterior 2nd_PreCast', 'Exterior 2nd_Other'], inplace = True)"
   ]
  },
  {
   "cell_type": "markdown",
   "metadata": {},
   "source": [
    "# 4.0 Predicting SalePrice"
   ]
  },
  {
   "cell_type": "code",
   "execution_count": 11,
   "metadata": {},
   "outputs": [],
   "source": [
    "# Export data for use in next dataset\n",
    "X.to_csv(\"datasets/test_v2_Kaggle.csv\", index = False)"
   ]
  },
  {
   "cell_type": "code",
   "execution_count": 12,
   "metadata": {
    "scrolled": false
   },
   "outputs": [
    {
     "name": "stdout",
     "output_type": "stream",
     "text": [
      "0.9165512192717161\n",
      "0.8843649131827771\n"
     ]
    },
    {
     "data": {
      "text/plain": [
       "12.91549665014884"
      ]
     },
     "execution_count": 12,
     "metadata": {},
     "output_type": "execute_result"
    }
   ],
   "source": [
    "X = pd.read_csv('datasets/train_v3_preprocessed.csv')\n",
    "y = X.pop('SalePrice')\n",
    "y = np.log(y)\n",
    "X_train, X_test, y_train, y_test = train_test_split(X, y, test_size=0.2, random_state=42)\n",
    "rs = RobustScaler()\n",
    "X_train_rs = rs.fit_transform(X_train)\n",
    "X_test_rs = rs.transform(X_test)\n",
    "r_alphas = np.logspace(0, 10, 100)\n",
    "ridge_cv = RidgeCV(alphas=r_alphas, scoring='r2', cv=5).fit(X_train_rs, y_train)\n",
    "print(ridge_cv.score(X_train_rs, y_train))\n",
    "print(ridge_cv.score(X_test_rs, y_test))\n",
    "\n",
    "ridge_cv.alpha_"
   ]
  },
  {
   "cell_type": "code",
   "execution_count": 13,
   "metadata": {},
   "outputs": [
    {
     "data": {
      "text/plain": [
       "Ridge(alpha=13.84)"
      ]
     },
     "execution_count": 13,
     "metadata": {},
     "output_type": "execute_result"
    }
   ],
   "source": [
    "rg = Ridge(alpha = 13.84)\n",
    "rs = RobustScaler()\n",
    "X_train_rs = rs.fit_transform(X_train)\n",
    "X_test_rs = rs.transform(X_test)\n",
    "rg.fit(X_train_rs, y_train)"
   ]
  },
  {
   "cell_type": "code",
   "execution_count": 14,
   "metadata": {},
   "outputs": [],
   "source": [
    "X = pd.read_csv('datasets/test_v2_Kaggle.csv')\n",
    "y = X.pop('Id')\n",
    "X_rs = rs.fit_transform(X)\n",
    "X['SalePrice'] = np.exp(rg.predict(X_rs))\n",
    "X['Id'] = y\n",
    "submission = X[['Id','SalePrice']]\n",
    "submission.to_csv(\"datasets/test_v3_Submit.csv\", index = False)"
   ]
  },
  {
   "cell_type": "markdown",
   "metadata": {},
   "source": [
    "Kaggle Submission Score: 28705"
   ]
  }
 ],
 "metadata": {
  "anaconda-cloud": {},
  "celltoolbar": "Raw Cell Format",
  "kernelspec": {
   "display_name": "Python 3",
   "language": "python",
   "name": "python3"
  },
  "language_info": {
   "codemirror_mode": {
    "name": "ipython",
    "version": 3
   },
   "file_extension": ".py",
   "mimetype": "text/x-python",
   "name": "python",
   "nbconvert_exporter": "python",
   "pygments_lexer": "ipython3",
   "version": "3.8.8"
  }
 },
 "nbformat": 4,
 "nbformat_minor": 4
}
